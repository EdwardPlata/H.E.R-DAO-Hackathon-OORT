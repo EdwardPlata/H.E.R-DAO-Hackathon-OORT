{
 "cells": [
  {
   "cell_type": "code",
   "execution_count": 1,
   "metadata": {},
   "outputs": [],
   "source": [
    "from oortwrapper import OortWrapper\n",
    "import pandas as pd"
   ]
  },
  {
   "cell_type": "code",
   "execution_count": 2,
   "metadata": {},
   "outputs": [
    {
     "name": "stdout",
     "output_type": "stream",
     "text": [
      "['kaggle-data', 'dummy-bucket', 'youtube-video-stems', 'oort-datalake']\n",
      "['iris.csv', 'wdbc.csv', 'pima-indians-diabetes.csv', 'housing.csv', 'wine.csv', 'diabetes.csv']\n"
     ]
    }
   ],
   "source": [
    "wrapper = OortWrapper()\n",
    "#List out buckets\n",
    "print(wrapper.list_buckets())\n",
    "#list objects in a bucket\n",
    "print(wrapper.list_objects('kaggle-data'))\n",
    "\n",
    "# df = wrapper.query_csv('kaggle-data', 'diabeties.csv')\n",
    "# df.head()"
   ]
  },
  {
   "cell_type": "code",
   "execution_count": null,
   "metadata": {},
   "outputs": [],
   "source": [
    "\n",
    "\n"
   ]
  },
  {
   "cell_type": "code",
   "execution_count": null,
   "metadata": {},
   "outputs": [],
   "source": [
    "import pandas as pd\n",
    "from oortwrapper import OortWrapper\n",
    "\n",
    "# Load the iris dataset into a Pandas DataFrame\n",
    "iris_df = pd.read_csv('https://archive.ics.uci.edu/ml/machine-learning-databases/iris/iris.data', header=None)\n",
    "iris_df.columns = ['sepal_length', 'sepal_width', 'petal_length', 'petal_width', 'class']\n",
    "\n",
    "# Create an instance of the OortWrapper class\n",
    "wrapper = OortWrapper()\n",
    "\n",
    "# Upload the iris dataset to your Oort S3 bucket\n",
    "bucket_name = 'kaggle-data'  # Replace with the name of your bucket\n",
    "csv_key = 'iris.csv'  # The name/key of the CSV file to be uploaded\n",
    "csv_data = iris_df.to_csv(index=False)  # Convert the DataFrame to CSV format\n",
    "wrapper.put_object(bucket_name, csv_key, csv_data)\n"
   ]
  },
  {
   "cell_type": "code",
   "execution_count": 5,
   "metadata": {},
   "outputs": [
    {
     "name": "stdout",
     "output_type": "stream",
     "text": [
      "Uploaded 'iris.csv' to 'new-demo-bucket'.\n",
      "Uploaded 'wine.csv' to 'new-demo-bucket'.\n",
      "Uploaded 'housing.csv' to 'new-demo-bucket'.\n",
      "Uploaded 'pima-indians-diabetes.csv' to 'new-demo-bucket'.\n",
      "Uploaded 'wdbc.csv' to 'new-demo-bucket'.\n"
     ]
    }
   ],
   "source": [
    "import pandas as pd\n",
    "import requests\n",
    "from io import StringIO\n",
    "from oortwrapper import OortWrapper\n",
    "\n",
    "# Define the URLs for the smaller datasets\n",
    "urls = [\n",
    "    'https://archive.ics.uci.edu/ml/machine-learning-databases/iris/iris.data',\n",
    "    'https://archive.ics.uci.edu/ml/machine-learning-databases/wine/wine.data',\n",
    "    'https://archive.ics.uci.edu/ml/machine-learning-databases/housing/housing.data',\n",
    "    'https://archive.ics.uci.edu/ml/machine-learning-databases/pima-indians-diabetes/pima-indians-diabetes.data',\n",
    "    'https://archive.ics.uci.edu/ml/machine-learning-databases/breast-cancer-wisconsin/wdbc.data',\n",
    "]\n",
    "\n",
    "# Create an instance of the OortWrapper class\n",
    "wrapper = OortWrapper()\n",
    "\n",
    "# Upload each of the datasets to your Oort S3 bucket\n",
    "bucket_name = 'new-demo-bucket'  # Replace with the name of your bucket\n",
    "\n",
    "def upload_datasets():\n",
    "    for url in urls:\n",
    "        # Download the dataset from the URL and store it in a Pandas DataFrame\n",
    "        response = requests.get(url)\n",
    "        data = response.content.decode('utf-8')\n",
    "        data_file = StringIO(data)\n",
    "        df = pd.read_csv(data_file, header=None)\n",
    "\n",
    "        # Convert the DataFrame to CSV format and upload to your Oort S3 bucket\n",
    "        csv_key = url.split('/')[-1].replace('.data', '') + '.csv'\n",
    "        csv_data = df.to_csv(index=False)\n",
    "        wrapper.put_object(bucket_name, csv_key, csv_data)\n",
    "        print(f\"Uploaded '{csv_key}' to '{bucket_name}'.\")\n",
    "\n",
    "# Call the function to upload the datasets\n",
    "upload_datasets()\n"
   ]
  },
  {
   "cell_type": "code",
   "execution_count": 4,
   "metadata": {},
   "outputs": [
    {
     "ename": "ObjectNotExecutableError",
     "evalue": "Not an executable object: 'SELECT * FROM iris WHERE Species = \"setosa\"'",
     "output_type": "error",
     "traceback": [
      "\u001b[0;31m---------------------------------------------------------------------------\u001b[0m",
      "\u001b[0;31mAttributeError\u001b[0m                            Traceback (most recent call last)",
      "File \u001b[0;32m~/DataBlock/Hackathons/H.E.R-DAO-Hackathon-OORT/oort_venv_mac/lib/python3.11/site-packages/sqlalchemy/engine/base.py:1410\u001b[0m, in \u001b[0;36mConnection.execute\u001b[0;34m(self, statement, parameters, execution_options)\u001b[0m\n\u001b[1;32m   1409\u001b[0m \u001b[39mtry\u001b[39;00m:\n\u001b[0;32m-> 1410\u001b[0m     meth \u001b[39m=\u001b[39m statement\u001b[39m.\u001b[39;49m_execute_on_connection\n\u001b[1;32m   1411\u001b[0m \u001b[39mexcept\u001b[39;00m \u001b[39mAttributeError\u001b[39;00m \u001b[39mas\u001b[39;00m err:\n",
      "\u001b[0;31mAttributeError\u001b[0m: 'str' object has no attribute '_execute_on_connection'",
      "\nThe above exception was the direct cause of the following exception:\n",
      "\u001b[0;31mObjectNotExecutableError\u001b[0m                  Traceback (most recent call last)",
      "Cell \u001b[0;32mIn[4], line 13\u001b[0m\n\u001b[1;32m     10\u001b[0m wine_query \u001b[39m=\u001b[39m \u001b[39m'\u001b[39m\u001b[39mSELECT * FROM wine WHERE alcohol > 13\u001b[39m\u001b[39m'\u001b[39m\n\u001b[1;32m     12\u001b[0m \u001b[39m# Query the iris dataset\u001b[39;00m\n\u001b[0;32m---> 13\u001b[0m iris_df \u001b[39m=\u001b[39m wrapper\u001b[39m.\u001b[39;49mquery_csv_pandasql(bucket_name, iris_key, iris_query)\n\u001b[1;32m     14\u001b[0m \u001b[39mprint\u001b[39m(iris_df\u001b[39m.\u001b[39mhead())\n\u001b[1;32m     16\u001b[0m \u001b[39m# # Query the wine dataset\u001b[39;00m\n\u001b[1;32m     17\u001b[0m \u001b[39m# wine_df = wrapper.query_csv_pandasql(bucket_name, wine_key, wine_query)\u001b[39;00m\n\u001b[1;32m     18\u001b[0m \u001b[39m# print(wine_df.head())\u001b[39;00m\n",
      "File \u001b[0;32m~/DataBlock/Hackathons/H.E.R-DAO-Hackathon-OORT/oortwrapper.py:156\u001b[0m, in \u001b[0;36mOortWrapper.query_csv_pandasql\u001b[0;34m(self, bucket_name, csv_key, query)\u001b[0m\n\u001b[1;32m    154\u001b[0m     csv_content \u001b[39m=\u001b[39m response[\u001b[39m'\u001b[39m\u001b[39mBody\u001b[39m\u001b[39m'\u001b[39m]\u001b[39m.\u001b[39mread()\u001b[39m.\u001b[39mdecode(\u001b[39m'\u001b[39m\u001b[39mutf-8\u001b[39m\u001b[39m'\u001b[39m)\n\u001b[1;32m    155\u001b[0m     df \u001b[39m=\u001b[39m pd\u001b[39m.\u001b[39mread_csv(io\u001b[39m.\u001b[39mStringIO(csv_content))\n\u001b[0;32m--> 156\u001b[0m     result \u001b[39m=\u001b[39m sqldf(query, \u001b[39mlocals\u001b[39;49m())\n\u001b[1;32m    157\u001b[0m     \u001b[39mreturn\u001b[39;00m result\n\u001b[1;32m    158\u001b[0m \u001b[39mexcept\u001b[39;00m botocore\u001b[39m.\u001b[39mexceptions\u001b[39m.\u001b[39mClientError \u001b[39mas\u001b[39;00m e:\n",
      "File \u001b[0;32m~/DataBlock/Hackathons/H.E.R-DAO-Hackathon-OORT/oort_venv_mac/lib/python3.11/site-packages/pandasql/sqldf.py:156\u001b[0m, in \u001b[0;36msqldf\u001b[0;34m(query, env, db_uri)\u001b[0m\n\u001b[1;32m    124\u001b[0m \u001b[39mdef\u001b[39;00m \u001b[39msqldf\u001b[39m(query, env\u001b[39m=\u001b[39m\u001b[39mNone\u001b[39;00m, db_uri\u001b[39m=\u001b[39m\u001b[39m'\u001b[39m\u001b[39msqlite:///:memory:\u001b[39m\u001b[39m'\u001b[39m):\n\u001b[1;32m    125\u001b[0m \u001b[39m    \u001b[39m\u001b[39m\"\"\"\u001b[39;00m\n\u001b[1;32m    126\u001b[0m \u001b[39m    Query pandas data frames using sql syntax\u001b[39;00m\n\u001b[1;32m    127\u001b[0m \u001b[39m    This function is meant for backward compatibility only. New users are encouraged to use the PandaSQL class.\u001b[39;00m\n\u001b[0;32m   (...)\u001b[0m\n\u001b[1;32m    154\u001b[0m \u001b[39m    >>> sqldf(\"select avg(x) from df;\", locals())\u001b[39;00m\n\u001b[1;32m    155\u001b[0m \u001b[39m    \"\"\"\u001b[39;00m\n\u001b[0;32m--> 156\u001b[0m     \u001b[39mreturn\u001b[39;00m PandaSQL(db_uri)(query, env)\n",
      "File \u001b[0;32m~/DataBlock/Hackathons/H.E.R-DAO-Hackathon-OORT/oort_venv_mac/lib/python3.11/site-packages/pandasql/sqldf.py:61\u001b[0m, in \u001b[0;36mPandaSQL.__call__\u001b[0;34m(self, query, env)\u001b[0m\n\u001b[1;32m     58\u001b[0m     write_table(env[table_name], table_name, conn)\n\u001b[1;32m     60\u001b[0m \u001b[39mtry\u001b[39;00m:\n\u001b[0;32m---> 61\u001b[0m     result \u001b[39m=\u001b[39m read_sql(query, conn)\n\u001b[1;32m     62\u001b[0m \u001b[39mexcept\u001b[39;00m DatabaseError \u001b[39mas\u001b[39;00m ex:\n\u001b[1;32m     63\u001b[0m     \u001b[39mraise\u001b[39;00m PandaSQLException(ex)\n",
      "File \u001b[0;32m~/DataBlock/Hackathons/H.E.R-DAO-Hackathon-OORT/oort_venv_mac/lib/python3.11/site-packages/pandas/io/sql.py:590\u001b[0m, in \u001b[0;36mread_sql\u001b[0;34m(sql, con, index_col, coerce_float, params, parse_dates, columns, chunksize)\u001b[0m\n\u001b[1;32m    581\u001b[0m     \u001b[39mreturn\u001b[39;00m pandas_sql\u001b[39m.\u001b[39mread_table(\n\u001b[1;32m    582\u001b[0m         sql,\n\u001b[1;32m    583\u001b[0m         index_col\u001b[39m=\u001b[39mindex_col,\n\u001b[0;32m   (...)\u001b[0m\n\u001b[1;32m    587\u001b[0m         chunksize\u001b[39m=\u001b[39mchunksize,\n\u001b[1;32m    588\u001b[0m     )\n\u001b[1;32m    589\u001b[0m \u001b[39melse\u001b[39;00m:\n\u001b[0;32m--> 590\u001b[0m     \u001b[39mreturn\u001b[39;00m pandas_sql\u001b[39m.\u001b[39;49mread_query(\n\u001b[1;32m    591\u001b[0m         sql,\n\u001b[1;32m    592\u001b[0m         index_col\u001b[39m=\u001b[39;49mindex_col,\n\u001b[1;32m    593\u001b[0m         params\u001b[39m=\u001b[39;49mparams,\n\u001b[1;32m    594\u001b[0m         coerce_float\u001b[39m=\u001b[39;49mcoerce_float,\n\u001b[1;32m    595\u001b[0m         parse_dates\u001b[39m=\u001b[39;49mparse_dates,\n\u001b[1;32m    596\u001b[0m         chunksize\u001b[39m=\u001b[39;49mchunksize,\n\u001b[1;32m    597\u001b[0m     )\n",
      "File \u001b[0;32m~/DataBlock/Hackathons/H.E.R-DAO-Hackathon-OORT/oort_venv_mac/lib/python3.11/site-packages/pandas/io/sql.py:1560\u001b[0m, in \u001b[0;36mSQLDatabase.read_query\u001b[0;34m(self, sql, index_col, coerce_float, parse_dates, params, chunksize, dtype)\u001b[0m\n\u001b[1;32m   1512\u001b[0m \u001b[39m\u001b[39m\u001b[39m\"\"\"\u001b[39;00m\n\u001b[1;32m   1513\u001b[0m \u001b[39mRead SQL query into a DataFrame.\u001b[39;00m\n\u001b[1;32m   1514\u001b[0m \n\u001b[0;32m   (...)\u001b[0m\n\u001b[1;32m   1556\u001b[0m \n\u001b[1;32m   1557\u001b[0m \u001b[39m\"\"\"\u001b[39;00m\n\u001b[1;32m   1558\u001b[0m args \u001b[39m=\u001b[39m _convert_params(sql, params)\n\u001b[0;32m-> 1560\u001b[0m result \u001b[39m=\u001b[39m \u001b[39mself\u001b[39;49m\u001b[39m.\u001b[39;49mexecute(\u001b[39m*\u001b[39;49margs)\n\u001b[1;32m   1561\u001b[0m columns \u001b[39m=\u001b[39m result\u001b[39m.\u001b[39mkeys()\n\u001b[1;32m   1563\u001b[0m \u001b[39mif\u001b[39;00m chunksize \u001b[39mis\u001b[39;00m \u001b[39mnot\u001b[39;00m \u001b[39mNone\u001b[39;00m:\n",
      "File \u001b[0;32m~/DataBlock/Hackathons/H.E.R-DAO-Hackathon-OORT/oort_venv_mac/lib/python3.11/site-packages/pandas/io/sql.py:1405\u001b[0m, in \u001b[0;36mSQLDatabase.execute\u001b[0;34m(self, *args, **kwargs)\u001b[0m\n\u001b[1;32m   1403\u001b[0m \u001b[39mdef\u001b[39;00m \u001b[39mexecute\u001b[39m(\u001b[39mself\u001b[39m, \u001b[39m*\u001b[39margs, \u001b[39m*\u001b[39m\u001b[39m*\u001b[39mkwargs):\n\u001b[1;32m   1404\u001b[0m \u001b[39m    \u001b[39m\u001b[39m\"\"\"Simple passthrough to SQLAlchemy connectable\"\"\"\u001b[39;00m\n\u001b[0;32m-> 1405\u001b[0m     \u001b[39mreturn\u001b[39;00m \u001b[39mself\u001b[39;49m\u001b[39m.\u001b[39;49mconnectable\u001b[39m.\u001b[39;49mexecution_options()\u001b[39m.\u001b[39;49mexecute(\u001b[39m*\u001b[39;49margs, \u001b[39m*\u001b[39;49m\u001b[39m*\u001b[39;49mkwargs)\n",
      "File \u001b[0;32m~/DataBlock/Hackathons/H.E.R-DAO-Hackathon-OORT/oort_venv_mac/lib/python3.11/site-packages/sqlalchemy/engine/base.py:1412\u001b[0m, in \u001b[0;36mConnection.execute\u001b[0;34m(self, statement, parameters, execution_options)\u001b[0m\n\u001b[1;32m   1410\u001b[0m     meth \u001b[39m=\u001b[39m statement\u001b[39m.\u001b[39m_execute_on_connection\n\u001b[1;32m   1411\u001b[0m \u001b[39mexcept\u001b[39;00m \u001b[39mAttributeError\u001b[39;00m \u001b[39mas\u001b[39;00m err:\n\u001b[0;32m-> 1412\u001b[0m     \u001b[39mraise\u001b[39;00m exc\u001b[39m.\u001b[39mObjectNotExecutableError(statement) \u001b[39mfrom\u001b[39;00m \u001b[39merr\u001b[39;00m\n\u001b[1;32m   1413\u001b[0m \u001b[39melse\u001b[39;00m:\n\u001b[1;32m   1414\u001b[0m     \u001b[39mreturn\u001b[39;00m meth(\n\u001b[1;32m   1415\u001b[0m         \u001b[39mself\u001b[39m,\n\u001b[1;32m   1416\u001b[0m         distilled_parameters,\n\u001b[1;32m   1417\u001b[0m         execution_options \u001b[39mor\u001b[39;00m NO_OPTIONS,\n\u001b[1;32m   1418\u001b[0m     )\n",
      "\u001b[0;31mObjectNotExecutableError\u001b[0m: Not an executable object: 'SELECT * FROM iris WHERE Species = \"setosa\"'"
     ]
    }
   ],
   "source": [
    "# Set the name of your bucket\n",
    "bucket_name = 'kaggle-data'\n",
    "\n",
    "# Set the keys of the CSV files in your bucket\n",
    "iris_key = 'iris.csv'\n",
    "wine_key = 'wine.csv'\n",
    "\n",
    "# Define the SQL queries to execute on the CSV files\n",
    "iris_query = 'SELECT * FROM iris WHERE Species = \"setosa\"'\n",
    "wine_query = 'SELECT * FROM wine WHERE alcohol > 13'\n",
    "\n",
    "# Query the iris dataset\n",
    "iris_df = wrapper.query_csv_pandasql(bucket_name, iris_key, iris_query)\n",
    "print(iris_df.head())\n",
    "\n",
    "# Query the wine dataset\n",
    "wine_df = wrapper.query_csv_pandasql(bucket_name, wine_key, wine_query)\n",
    "print(wine_df.head())\n"
   ]
  },
  {
   "cell_type": "code",
   "execution_count": null,
   "metadata": {},
   "outputs": [],
   "source": []
  }
 ],
 "metadata": {
  "kernelspec": {
   "display_name": "oort_venv_mac",
   "language": "python",
   "name": "python3"
  },
  "language_info": {
   "codemirror_mode": {
    "name": "ipython",
    "version": 3
   },
   "file_extension": ".py",
   "mimetype": "text/x-python",
   "name": "python",
   "nbconvert_exporter": "python",
   "pygments_lexer": "ipython3",
   "version": "3.11.3"
  },
  "orig_nbformat": 4
 },
 "nbformat": 4,
 "nbformat_minor": 2
}
